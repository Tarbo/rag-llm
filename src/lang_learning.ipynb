{
 "cells": [
  {
   "cell_type": "code",
   "execution_count": 3,
   "id": "8dc89e5b",
   "metadata": {},
   "outputs": [],
   "source": [
    "from langchain_openai import ChatOpenAI\n",
    "from langchain.prompts import ChatPromptTemplate\n",
    "from dotenv import load_dotenv, find_dotenv\n",
    "import os\n",
    "import openai\n",
    "_ = load_dotenv(find_dotenv())\n",
    "openai.api_key = os.getenv(\"OPENAI_API_KEY\")"
   ]
  },
  {
   "cell_type": "code",
   "execution_count": 8,
   "id": "b2daef80",
   "metadata": {},
   "outputs": [
    {
     "name": "stdout",
     "output_type": "stream",
     "text": [
      "\n",
      "Translate the customer email to American English in a calm and respectful tone\n",
      "\n",
      "Customer email:\n",
      "Arrr, I be fuming that me blender lid flew off and splattered me kitchen walls with smoothie! And to make matters worse,the warranty don't cover the cost of cleaning up me kitchen. I need yer help right now, matey!\n",
      "\n"
     ]
    }
   ],
   "source": [
    "customer_email = \"Arrr, I be fuming that me blender lid \\\n",
    "flew off and splattered me kitchen walls \\\n",
    "with smoothie! And to make matters worse,\\\n",
    "the warranty don't cover the cost of \\\n",
    "cleaning up me kitchen. I need yer help \\\n",
    "right now, matey!\"\n",
    "style = \"American English \\\n",
    "in a calm and respectful tone\"\n",
    "prompt = f\"\"\"\n",
    "Translate the customer email to {style}\n",
    "\n",
    "Customer email:\n",
    "{customer_email}\n",
    "\"\"\"\n",
    "print(prompt)"
   ]
  },
  {
   "cell_type": "code",
   "execution_count": 5,
   "id": "837fa5bc",
   "metadata": {},
   "outputs": [
    {
     "name": "stdout",
     "output_type": "stream",
     "text": [
      "Customer email:\n",
      "I am upset that my blender lid flew off and splattered my kitchen walls with smoothie! And unfortunately, the warranty does not cover the cost of cleaning up my kitchen. I need your help immediately. Thank you.\n"
     ]
    }
   ],
   "source": [
    "def get_chat_completion(prompt, model=\"gpt-3.5-turbo\", temperature=0):\n",
    "    messages = [{\"role\": \"user\", \"content\": prompt}]\n",
    "    response = openai.chat.completions.create(\n",
    "        model=model,\n",
    "        messages=messages,\n",
    "        temperature=temperature\n",
    "    )\n",
    "    return response.choices[0].message.content\n",
    "print(get_chat_completion(prompt))"
   ]
  },
  {
   "cell_type": "markdown",
   "id": "2a91a8b0",
   "metadata": {},
   "source": [
    "## Using LangChain"
   ]
  },
  {
   "cell_type": "code",
   "execution_count": 12,
   "id": "8a3d7637",
   "metadata": {},
   "outputs": [
    {
     "name": "stdout",
     "output_type": "stream",
     "text": [
      "Customer email:\n",
      "I am frustrated that my blender lid flew off and splattered my kitchen walls with smoothie! And unfortunately, the warranty does not cover the cost of cleaning up my kitchen. I need your help immediately.\n"
     ]
    }
   ],
   "source": [
    "from langchain_openai import ChatOpenAI\n",
    "from  langchain_core.prompts import PromptTemplate\n",
    "from langchain_core.output_parsers import StrOutputParser\n",
    "\n",
    "chat = ChatOpenAI(model=\"gpt-3.5-turbo\", temperature=0.5)\n",
    "parser = StrOutputParser()\n",
    "prompt = PromptTemplate(\n",
    "    template=\"Translate the following customer email to {style}:\\n\\nCustomer email:\\n{customer_email}\",\n",
    "    input_variables=[\"customer_email\", \"style\"],\n",
    ")\n",
    "chain = prompt | chat | parser\n",
    "print(chain.invoke({\"customer_email\": customer_email, \"style\": style}))\n"
   ]
  },
  {
   "cell_type": "code",
   "execution_count": 15,
   "id": "eabe8379",
   "metadata": {},
   "outputs": [
    {
     "name": "stdout",
     "output_type": "stream",
     "text": [
      "Ahoy dere customer,\n",
      "\n",
      "I dey sorry to inform you say di warranty no cover di cleaning expenses for your kitchen because na your fault say you misuse your blender by forgettin to put di lid before you start di blender. Tough luck! See you later.\n",
      "\n",
      "Warm regards,\n"
     ]
    }
   ],
   "source": [
    "service_reply = \"\"\"Hey there customer, \\\n",
    "the warranty does not cover \\\n",
    "cleaning expenses for your kitchen \\\n",
    "because it's your fault that \\\n",
    "you misused your blender \\\n",
    "by forgetting to put the lid on before \\\n",
    "starting the blender. \\\n",
    "Tough luck! See ya later.\"\"\" \n",
    "service_style_pirate = \"\"\"\\\n",
    "a polite tone \\\n",
    "that speaks in Nigerian broken English pirate\\\n",
    "\"\"\"\n",
    "prompt = PromptTemplate(\n",
    "    template=\"Translate the following email to {service_style_pirate}:\\n\\nService Email:\\n{service_reply}\",\n",
    "    input_variables=[\"service_reply\", \"service_style_pirate\"],\n",
    ")\n",
    "chain = prompt | chat | parser\n",
    "print(chain.invoke({\"service_reply\": service_reply, \"service_style_pirate\": service_style_pirate}))\n"
   ]
  },
  {
   "cell_type": "code",
   "execution_count": null,
   "id": "632228a5",
   "metadata": {},
   "outputs": [
    {
     "name": "stdout",
     "output_type": "stream",
     "text": [
      "True\n"
     ]
    }
   ],
   "source": [
    "from langchain_core.output_parsers import JsonOutputParser\n",
    "review_template = \"\"\"\\\n",
    "For the following text, extract the following information:\n",
    "\n",
    "gift: Was the item purchased as a gift for someone else? \\\n",
    "Answer True if yes, False if not or unknown.\n",
    "\n",
    "delivery_days: How many days did it take for the product \\\n",
    "to arrive? If this information is not found, output -1.\n",
    "\n",
    "price_value: Extract any sentences about the value or price,\\\n",
    "and output them as a comma separated Python list.\n",
    "\n",
    "Format the output as JSON with the following keys:\n",
    "gift\n",
    "delivery_days\n",
    "price_value\n",
    "text: {customer_review}\"\"\"\n",
    "\n",
    "customer_review = \"\"\"\\\n",
    "This leaf blower is pretty amazing.  It has four settings:\\\n",
    "candle blower, gentle breeze, windy city, and tornado. \\\n",
    "It arrived in two days, just in time for my wife's \\\n",
    "anniversary present. \\\n",
    "I think my wife liked it so much she was speechless. \\\n",
    "So far I've been the only one using it, and I've been \\\n",
    "using it every other morning to clear the leaves on our lawn. \\\n",
    "It's slightly more expensive than the other leaf blowers \\\n",
    "out there, but I think it's worth it for the extra features.\n",
    "\"\"\"\n",
    "parser = JsonOutputParser()\n",
    "prompt = PromptTemplate(\n",
    "    template=review_template,\n",
    "    input_variables=[\"customer_review\"],\n",
    ")\n",
    "chain = prompt | chat | parser\n",
    "response=chain.invoke({\"customer_review\": customer_review})\n",
    "print(response.get(\"delivery_days\"))"
   ]
  },
  {
   "cell_type": "code",
   "execution_count": 21,
   "id": "564aeb9c",
   "metadata": {},
   "outputs": [
    {
     "name": "stdout",
     "output_type": "stream",
     "text": [
      "[\"It's slightly more expensive than the other leaf blowers out there\"]\n"
     ]
    }
   ],
   "source": [
    "print(response.get(\"price_value\"))"
   ]
  },
  {
   "cell_type": "code",
   "execution_count": null,
   "id": "752f5ea1",
   "metadata": {},
   "outputs": [],
   "source": []
  }
 ],
 "metadata": {
  "kernelspec": {
   "display_name": "venv3.12",
   "language": "python",
   "name": "python3"
  },
  "language_info": {
   "codemirror_mode": {
    "name": "ipython",
    "version": 3
   },
   "file_extension": ".py",
   "mimetype": "text/x-python",
   "name": "python",
   "nbconvert_exporter": "python",
   "pygments_lexer": "ipython3",
   "version": "3.12.2"
  }
 },
 "nbformat": 4,
 "nbformat_minor": 5
}
