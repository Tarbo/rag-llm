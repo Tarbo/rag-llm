{
 "cells": [
  {
   "cell_type": "code",
   "execution_count": 3,
   "id": "8dc89e5b",
   "metadata": {},
   "outputs": [],
   "source": [
    "from langchain_openai import ChatOpenAI\n",
    "from langchain.prompts import ChatPromptTemplate\n",
    "from dotenv import load_dotenv, find_dotenv\n",
    "import os\n",
    "import openai\n",
    "_ = load_dotenv(find_dotenv())\n",
    "openai.api_key = os.getenv(\"OPENAI_API_KEY\")"
   ]
  },
  {
   "cell_type": "code",
   "execution_count": 8,
   "id": "b2daef80",
   "metadata": {},
   "outputs": [
    {
     "name": "stdout",
     "output_type": "stream",
     "text": [
      "\n",
      "Translate the customer email to American English in a calm and respectful tone\n",
      "\n",
      "Customer email:\n",
      "Arrr, I be fuming that me blender lid flew off and splattered me kitchen walls with smoothie! And to make matters worse,the warranty don't cover the cost of cleaning up me kitchen. I need yer help right now, matey!\n",
      "\n"
     ]
    }
   ],
   "source": [
    "customer_email = \"Arrr, I be fuming that me blender lid \\\n",
    "flew off and splattered me kitchen walls \\\n",
    "with smoothie! And to make matters worse,\\\n",
    "the warranty don't cover the cost of \\\n",
    "cleaning up me kitchen. I need yer help \\\n",
    "right now, matey!\"\n",
    "style = \"American English \\\n",
    "in a calm and respectful tone\"\n",
    "prompt = f\"\"\"\n",
    "Translate the customer email to {style}\n",
    "\n",
    "Customer email:\n",
    "{customer_email}\n",
    "\"\"\"\n",
    "print(prompt)"
   ]
  },
  {
   "cell_type": "code",
   "execution_count": 5,
   "id": "837fa5bc",
   "metadata": {},
   "outputs": [
    {
     "name": "stdout",
     "output_type": "stream",
     "text": [
      "Customer email:\n",
      "I am upset that my blender lid flew off and splattered my kitchen walls with smoothie! And unfortunately, the warranty does not cover the cost of cleaning up my kitchen. I need your help immediately. Thank you.\n"
     ]
    }
   ],
   "source": [
    "def get_chat_completion(prompt, model=\"gpt-3.5-turbo\", temperature=0):\n",
    "    messages = [{\"role\": \"user\", \"content\": prompt}]\n",
    "    response = openai.chat.completions.create(\n",
    "        model=model,\n",
    "        messages=messages,\n",
    "        temperature=temperature\n",
    "    )\n",
    "    return response.choices[0].message.content\n",
    "print(get_chat_completion(prompt))"
   ]
  },
  {
   "cell_type": "markdown",
   "id": "2a91a8b0",
   "metadata": {},
   "source": [
    "## Using LangChain"
   ]
  },
  {
   "cell_type": "code",
   "execution_count": 12,
   "id": "8a3d7637",
   "metadata": {},
   "outputs": [
    {
     "name": "stdout",
     "output_type": "stream",
     "text": [
      "Customer email:\n",
      "I am frustrated that my blender lid flew off and splattered my kitchen walls with smoothie! And unfortunately, the warranty does not cover the cost of cleaning up my kitchen. I need your help immediately.\n"
     ]
    }
   ],
   "source": [
    "from langchain_openai import ChatOpenAI\n",
    "from  langchain_core.prompts import PromptTemplate\n",
    "from langchain_core.output_parsers import StrOutputParser\n",
    "\n",
    "chat = ChatOpenAI(model=\"gpt-3.5-turbo\", temperature=0.5)\n",
    "parser = StrOutputParser()\n",
    "prompt = PromptTemplate(\n",
    "    template=\"Translate the following customer email to {style}:\\n\\nCustomer email:\\n{customer_email}\",\n",
    "    input_variables=[\"customer_email\", \"style\"],\n",
    ")\n",
    "chain = prompt | chat | parser\n",
    "print(chain.invoke({\"customer_email\": customer_email, \"style\": style}))\n"
   ]
  },
  {
   "cell_type": "code",
   "execution_count": null,
   "id": "eabe8379",
   "metadata": {},
   "outputs": [],
   "source": []
  }
 ],
 "metadata": {
  "kernelspec": {
   "display_name": "venv3.12",
   "language": "python",
   "name": "python3"
  },
  "language_info": {
   "codemirror_mode": {
    "name": "ipython",
    "version": 3
   },
   "file_extension": ".py",
   "mimetype": "text/x-python",
   "name": "python",
   "nbconvert_exporter": "python",
   "pygments_lexer": "ipython3",
   "version": "3.12.2"
  }
 },
 "nbformat": 4,
 "nbformat_minor": 5
}
