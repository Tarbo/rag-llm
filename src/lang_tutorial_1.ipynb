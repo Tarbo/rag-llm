{
 "cells": [
  {
   "cell_type": "markdown",
   "id": "acf25116",
   "metadata": {},
   "source": [
    "# Introduction to LangChain\n",
    "# \n",
    "### Welcome! In this tutorial, you'll learn the basics of using [LangChain](https://python.langchain.com/) for developing applications powered by language models. LangChain helps you build powerful, flexible, and context-aware workflows using LLMs and connects them to various data sources and tools.\n",
    "# \n",
    "### By the end of this notebook, you'll understand:\n",
    "#### - What LangChain is and why it's useful\n",
    "#### - How to set up a simple LangChain pipeline\n",
    "#### - Basic concepts such as Chains, Prompts, and Language Models\n",
    "# \n",
    "##### Let's get started!\n",
    "## Author: Dili Ezeme Ph.D.\n"
   ]
  },
  {
   "cell_type": "markdown",
   "id": "116ff8ff",
   "metadata": {},
   "source": []
  }
 ],
 "metadata": {
  "kernelspec": {
   "display_name": "venv3.12",
   "language": "python",
   "name": "python3"
  },
  "language_info": {
   "name": "python",
   "version": "3.12.2"
  }
 },
 "nbformat": 4,
 "nbformat_minor": 5
}
